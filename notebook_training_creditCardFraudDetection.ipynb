{
 "cells": [
  {
   "cell_type": "markdown",
   "metadata": {},
   "source": [
    "# Exploratory Data Analysis (What can we observe?):\n",
    "https://www.kaggle.com/jamesmartini/neural-network-cc-fraud-detection-with-90-recall\n"
   ]
  },
  {
   "cell_type": "code",
   "execution_count": 1,
   "metadata": {},
   "outputs": [
    {
     "name": "stdout",
     "output_type": "stream",
     "text": [
      "2.3.0\n"
     ]
    }
   ],
   "source": [
    "import tensorflow as tf\n",
    "print(tf.__version__)"
   ]
  },
  {
   "cell_type": "code",
   "execution_count": 8,
   "metadata": {},
   "outputs": [
    {
     "data": {
      "text/plain": [
       "[PhysicalDevice(name='/physical_device:CPU:0', device_type='CPU'),\n",
       " PhysicalDevice(name='/physical_device:XLA_CPU:0', device_type='XLA_CPU'),\n",
       " PhysicalDevice(name='/physical_device:GPU:0', device_type='GPU'),\n",
       " PhysicalDevice(name='/physical_device:XLA_GPU:0', device_type='XLA_GPU')]"
      ]
     },
     "execution_count": 8,
     "metadata": {},
     "output_type": "execute_result"
    }
   ],
   "source": [
    "tf.config.list_physical_devices()"
   ]
  },
  {
   "cell_type": "code",
   "execution_count": 9,
   "metadata": {},
   "outputs": [
    {
     "data": {
      "text/plain": [
       "True"
      ]
     },
     "execution_count": 9,
     "metadata": {},
     "output_type": "execute_result"
    }
   ],
   "source": [
    "tf.test.is_built_with_cuda()"
   ]
  },
  {
   "cell_type": "code",
   "execution_count": 10,
   "metadata": {},
   "outputs": [
    {
     "name": "stdout",
     "output_type": "stream",
     "text": [
      "WARNING:tensorflow:From <ipython-input-10-17bb7203622b>:1: is_gpu_available (from tensorflow.python.framework.test_util) is deprecated and will be removed in a future version.\n",
      "Instructions for updating:\n",
      "Use `tf.config.list_physical_devices('GPU')` instead.\n"
     ]
    },
    {
     "data": {
      "text/plain": [
       "True"
      ]
     },
     "execution_count": 10,
     "metadata": {},
     "output_type": "execute_result"
    }
   ],
   "source": [
    "tf.test.is_gpu_available()"
   ]
  },
  {
   "cell_type": "code",
   "execution_count": 11,
   "metadata": {},
   "outputs": [
    {
     "name": "stdout",
     "output_type": "stream",
     "text": [
      "Num GPUs Available:  1\n"
     ]
    }
   ],
   "source": [
    "from __future__ import absolute_import, division, print_function, unicode_literals\n",
    "print(\"Num GPUs Available: \", len(tf.config.experimental.list_physical_devices('XLA_GPU')))"
   ]
  },
  {
   "cell_type": "code",
   "execution_count": 12,
   "metadata": {},
   "outputs": [
    {
     "name": "stdout",
     "output_type": "stream",
     "text": [
      "tf.Tensor(b'Hello from TensorFlow 2.3.0', shape=(), dtype=string)\n"
     ]
    }
   ],
   "source": [
    "print(tf.constant('Hello from TensorFlow ' + tf.__version__) )"
   ]
  },
  {
   "cell_type": "code",
   "execution_count": 13,
   "metadata": {},
   "outputs": [
    {
     "data": {
      "text/plain": [
       "'/device:GPU:0'"
      ]
     },
     "execution_count": 13,
     "metadata": {},
     "output_type": "execute_result"
    }
   ],
   "source": [
    "tf.test.gpu_device_name()"
   ]
  },
  {
   "cell_type": "code",
   "execution_count": 14,
   "metadata": {},
   "outputs": [
    {
     "name": "stdout",
     "output_type": "stream",
     "text": [
      "['/device:CPU:0', '/device:XLA_CPU:0', '/device:GPU:0', '/device:XLA_GPU:0']\n"
     ]
    }
   ],
   "source": [
    "from tensorflow.python.client import device_lib\n",
    "def get_available_devices():\n",
    "    local_device_protos = device_lib.list_local_devices()\n",
    "    return [x.name for x in local_device_protos]\n",
    "print(get_available_devices()) \n",
    "# my output was => ['/device:CPU:0']\n",
    "# good output must be => ['/device:CPU:0', '/device:GPU:0']"
   ]
  },
  {
   "cell_type": "code",
   "execution_count": 37,
   "metadata": {},
   "outputs": [],
   "source": [
    "import pandas as pd\n",
    "import matplotlib.pyplot as plt\n",
    "import seaborn as sns\n",
    "import numpy as np\n",
    "import tensorflow as tf\n",
    "\n",
    "import warnings\n",
    "warnings.filterwarnings('ignore')"
   ]
  },
  {
   "cell_type": "code",
   "execution_count": 38,
   "metadata": {},
   "outputs": [],
   "source": [
    "df = pd.read_csv('creditcard.csv')"
   ]
  },
  {
   "cell_type": "code",
   "execution_count": 39,
   "metadata": {},
   "outputs": [
    {
     "data": {
      "text/html": [
       "<div>\n",
       "<style scoped>\n",
       "    .dataframe tbody tr th:only-of-type {\n",
       "        vertical-align: middle;\n",
       "    }\n",
       "\n",
       "    .dataframe tbody tr th {\n",
       "        vertical-align: top;\n",
       "    }\n",
       "\n",
       "    .dataframe thead th {\n",
       "        text-align: right;\n",
       "    }\n",
       "</style>\n",
       "<table border=\"1\" class=\"dataframe\">\n",
       "  <thead>\n",
       "    <tr style=\"text-align: right;\">\n",
       "      <th></th>\n",
       "      <th>Amount</th>\n",
       "      <th>Class</th>\n",
       "      <th>Time</th>\n",
       "      <th>V1</th>\n",
       "      <th>V2</th>\n",
       "      <th>V3</th>\n",
       "      <th>V4</th>\n",
       "      <th>V5</th>\n",
       "      <th>V6</th>\n",
       "      <th>V7</th>\n",
       "      <th>...</th>\n",
       "      <th>V19</th>\n",
       "      <th>V20</th>\n",
       "      <th>V21</th>\n",
       "      <th>V22</th>\n",
       "      <th>V23</th>\n",
       "      <th>V24</th>\n",
       "      <th>V25</th>\n",
       "      <th>V26</th>\n",
       "      <th>V27</th>\n",
       "      <th>V28</th>\n",
       "    </tr>\n",
       "  </thead>\n",
       "  <tbody>\n",
       "    <tr>\n",
       "      <th>0</th>\n",
       "      <td>149.62</td>\n",
       "      <td>0</td>\n",
       "      <td>0.0</td>\n",
       "      <td>-1.359807</td>\n",
       "      <td>-0.072781</td>\n",
       "      <td>2.536347</td>\n",
       "      <td>1.378155</td>\n",
       "      <td>-0.338321</td>\n",
       "      <td>0.462388</td>\n",
       "      <td>0.239599</td>\n",
       "      <td>...</td>\n",
       "      <td>0.403993</td>\n",
       "      <td>0.251412</td>\n",
       "      <td>-0.018307</td>\n",
       "      <td>0.277838</td>\n",
       "      <td>-0.110474</td>\n",
       "      <td>0.066928</td>\n",
       "      <td>0.128539</td>\n",
       "      <td>-0.189115</td>\n",
       "      <td>0.133558</td>\n",
       "      <td>-0.021053</td>\n",
       "    </tr>\n",
       "    <tr>\n",
       "      <th>1</th>\n",
       "      <td>2.69</td>\n",
       "      <td>0</td>\n",
       "      <td>0.0</td>\n",
       "      <td>1.191857</td>\n",
       "      <td>0.266151</td>\n",
       "      <td>0.166480</td>\n",
       "      <td>0.448154</td>\n",
       "      <td>0.060018</td>\n",
       "      <td>-0.082361</td>\n",
       "      <td>-0.078803</td>\n",
       "      <td>...</td>\n",
       "      <td>-0.145783</td>\n",
       "      <td>-0.069083</td>\n",
       "      <td>-0.225775</td>\n",
       "      <td>-0.638672</td>\n",
       "      <td>0.101288</td>\n",
       "      <td>-0.339846</td>\n",
       "      <td>0.167170</td>\n",
       "      <td>0.125895</td>\n",
       "      <td>-0.008983</td>\n",
       "      <td>0.014724</td>\n",
       "    </tr>\n",
       "    <tr>\n",
       "      <th>2</th>\n",
       "      <td>378.66</td>\n",
       "      <td>0</td>\n",
       "      <td>1.0</td>\n",
       "      <td>-1.358354</td>\n",
       "      <td>-1.340163</td>\n",
       "      <td>1.773209</td>\n",
       "      <td>0.379780</td>\n",
       "      <td>-0.503198</td>\n",
       "      <td>1.800499</td>\n",
       "      <td>0.791461</td>\n",
       "      <td>...</td>\n",
       "      <td>-2.261857</td>\n",
       "      <td>0.524980</td>\n",
       "      <td>0.247998</td>\n",
       "      <td>0.771679</td>\n",
       "      <td>0.909412</td>\n",
       "      <td>-0.689281</td>\n",
       "      <td>-0.327642</td>\n",
       "      <td>-0.139097</td>\n",
       "      <td>-0.055353</td>\n",
       "      <td>-0.059752</td>\n",
       "    </tr>\n",
       "    <tr>\n",
       "      <th>3</th>\n",
       "      <td>123.50</td>\n",
       "      <td>0</td>\n",
       "      <td>1.0</td>\n",
       "      <td>-0.966272</td>\n",
       "      <td>-0.185226</td>\n",
       "      <td>1.792993</td>\n",
       "      <td>-0.863291</td>\n",
       "      <td>-0.010309</td>\n",
       "      <td>1.247203</td>\n",
       "      <td>0.237609</td>\n",
       "      <td>...</td>\n",
       "      <td>-1.232622</td>\n",
       "      <td>-0.208038</td>\n",
       "      <td>-0.108300</td>\n",
       "      <td>0.005274</td>\n",
       "      <td>-0.190321</td>\n",
       "      <td>-1.175575</td>\n",
       "      <td>0.647376</td>\n",
       "      <td>-0.221929</td>\n",
       "      <td>0.062723</td>\n",
       "      <td>0.061458</td>\n",
       "    </tr>\n",
       "    <tr>\n",
       "      <th>4</th>\n",
       "      <td>69.99</td>\n",
       "      <td>0</td>\n",
       "      <td>2.0</td>\n",
       "      <td>-1.158233</td>\n",
       "      <td>0.877737</td>\n",
       "      <td>1.548718</td>\n",
       "      <td>0.403034</td>\n",
       "      <td>-0.407193</td>\n",
       "      <td>0.095921</td>\n",
       "      <td>0.592941</td>\n",
       "      <td>...</td>\n",
       "      <td>0.803487</td>\n",
       "      <td>0.408542</td>\n",
       "      <td>-0.009431</td>\n",
       "      <td>0.798278</td>\n",
       "      <td>-0.137458</td>\n",
       "      <td>0.141267</td>\n",
       "      <td>-0.206010</td>\n",
       "      <td>0.502292</td>\n",
       "      <td>0.219422</td>\n",
       "      <td>0.215153</td>\n",
       "    </tr>\n",
       "  </tbody>\n",
       "</table>\n",
       "<p>5 rows × 31 columns</p>\n",
       "</div>"
      ],
      "text/plain": [
       "   Amount  Class  Time        V1        V2        V3        V4        V5  \\\n",
       "0  149.62      0   0.0 -1.359807 -0.072781  2.536347  1.378155 -0.338321   \n",
       "1    2.69      0   0.0  1.191857  0.266151  0.166480  0.448154  0.060018   \n",
       "2  378.66      0   1.0 -1.358354 -1.340163  1.773209  0.379780 -0.503198   \n",
       "3  123.50      0   1.0 -0.966272 -0.185226  1.792993 -0.863291 -0.010309   \n",
       "4   69.99      0   2.0 -1.158233  0.877737  1.548718  0.403034 -0.407193   \n",
       "\n",
       "         V6        V7  ...       V19       V20       V21       V22       V23  \\\n",
       "0  0.462388  0.239599  ...  0.403993  0.251412 -0.018307  0.277838 -0.110474   \n",
       "1 -0.082361 -0.078803  ... -0.145783 -0.069083 -0.225775 -0.638672  0.101288   \n",
       "2  1.800499  0.791461  ... -2.261857  0.524980  0.247998  0.771679  0.909412   \n",
       "3  1.247203  0.237609  ... -1.232622 -0.208038 -0.108300  0.005274 -0.190321   \n",
       "4  0.095921  0.592941  ...  0.803487  0.408542 -0.009431  0.798278 -0.137458   \n",
       "\n",
       "        V24       V25       V26       V27       V28  \n",
       "0  0.066928  0.128539 -0.189115  0.133558 -0.021053  \n",
       "1 -0.339846  0.167170  0.125895 -0.008983  0.014724  \n",
       "2 -0.689281 -0.327642 -0.139097 -0.055353 -0.059752  \n",
       "3 -1.175575  0.647376 -0.221929  0.062723  0.061458  \n",
       "4  0.141267 -0.206010  0.502292  0.219422  0.215153  \n",
       "\n",
       "[5 rows x 31 columns]"
      ]
     },
     "execution_count": 39,
     "metadata": {},
     "output_type": "execute_result"
    }
   ],
   "source": [
    "df.head()"
   ]
  },
  {
   "cell_type": "code",
   "execution_count": 40,
   "metadata": {},
   "outputs": [
    {
     "name": "stdout",
     "output_type": "stream",
     "text": [
      "<class 'pandas.core.frame.DataFrame'>\n",
      "RangeIndex: 284807 entries, 0 to 284806\n",
      "Data columns (total 31 columns):\n",
      " #   Column  Non-Null Count   Dtype  \n",
      "---  ------  --------------   -----  \n",
      " 0   Amount  284807 non-null  float64\n",
      " 1   Class   284807 non-null  int64  \n",
      " 2   Time    284807 non-null  float64\n",
      " 3   V1      284807 non-null  float64\n",
      " 4   V2      284807 non-null  float64\n",
      " 5   V3      284807 non-null  float64\n",
      " 6   V4      284807 non-null  float64\n",
      " 7   V5      284807 non-null  float64\n",
      " 8   V6      284807 non-null  float64\n",
      " 9   V7      284807 non-null  float64\n",
      " 10  V8      284807 non-null  float64\n",
      " 11  V9      284807 non-null  float64\n",
      " 12  V10     284807 non-null  float64\n",
      " 13  V11     284807 non-null  float64\n",
      " 14  V12     284807 non-null  float64\n",
      " 15  V13     284807 non-null  float64\n",
      " 16  V14     284807 non-null  float64\n",
      " 17  V15     284807 non-null  float64\n",
      " 18  V16     284807 non-null  float64\n",
      " 19  V17     284807 non-null  float64\n",
      " 20  V18     284807 non-null  float64\n",
      " 21  V19     284807 non-null  float64\n",
      " 22  V20     284807 non-null  float64\n",
      " 23  V21     284807 non-null  float64\n",
      " 24  V22     284807 non-null  float64\n",
      " 25  V23     284807 non-null  float64\n",
      " 26  V24     284807 non-null  float64\n",
      " 27  V25     284807 non-null  float64\n",
      " 28  V26     284807 non-null  float64\n",
      " 29  V27     284807 non-null  float64\n",
      " 30  V28     284807 non-null  float64\n",
      "dtypes: float64(30), int64(1)\n",
      "memory usage: 67.4 MB\n"
     ]
    }
   ],
   "source": [
    "df.info()"
   ]
  },
  {
   "cell_type": "code",
   "execution_count": 41,
   "metadata": {},
   "outputs": [
    {
     "data": {
      "text/plain": [
       "0    284315\n",
       "1       492\n",
       "Name: Class, dtype: int64"
      ]
     },
     "execution_count": 41,
     "metadata": {},
     "output_type": "execute_result"
    }
   ],
   "source": [
    "df['Class'].value_counts()"
   ]
  },
  {
   "cell_type": "code",
   "execution_count": 42,
   "metadata": {},
   "outputs": [
    {
     "data": {
      "text/plain": [
       "Text(0.5, 1.0, 'Number of Transactions Per Class')"
      ]
     },
     "execution_count": 42,
     "metadata": {},
     "output_type": "execute_result"
    },
    {
     "data": {
      "image/png": "[encoded data removed]",
      "text/plain": [
       "<Figure size 504x360 with 1 Axes>"
      ]
     },
     "metadata": {},
     "output_type": "display_data"
    }
   ],
   "source": [
    "sns.set_style('darkgrid') #Set Seaborn plot style\n",
    "fig, ax = plt.subplots(figsize=(7,5)) #Make the plot a little bigger.\n",
    "ax.set_yscale('log') #Set the y-scale as logarithmic.\n",
    "g = sns.countplot(x='Class', data=df, ax=ax) #Place the desired data on the plot.\n",
    "g.set_xticklabels(['Legit','Fraud']) #Label the x-axis and y-axis correctly, and title the plot.\n",
    "plt.xlabel('Class')\n",
    "plt.ylabel('Count')\n",
    "plt.title('Number of Transactions Per Class')"
   ]
  },
  {
   "cell_type": "code",
   "execution_count": 21,
   "metadata": {},
   "outputs": [
    {
     "data": {
      "image/png": "[encoded data removed]",
      "text/plain": [
       "<Figure size 792x504 with 2 Axes>"
      ]
     },
     "metadata": {},
     "output_type": "display_data"
    }
   ],
   "source": [
    "#list_of_correlations= df.corr(method='pearson')\n",
    "#plt.figure(figsize=(11,7))\n",
    "#sns.heatmap(list_of_correlations,linewidths=0.005,linecolor='k')\n",
    "#plt.title('Correlation Heatmap')\n",
    "#plt.show()"
   ]
  },
  {
   "cell_type": "code",
   "execution_count": 22,
   "metadata": {},
   "outputs": [
    {
     "data": {
      "text/plain": [
       "Class    1.000000\n",
       "V17      0.326481\n",
       "V14      0.302544\n",
       "V12      0.260593\n",
       "V10      0.216883\n",
       "V16      0.196539\n",
       "V3       0.192961\n",
       "V7       0.187257\n",
       "V11      0.154876\n",
       "V4       0.133447\n",
       "Name: Class, dtype: float64"
      ]
     },
     "execution_count": 22,
     "metadata": {},
     "output_type": "execute_result"
    }
   ],
   "source": [
    "np.abs(list_of_correlations['Class']).sort_values(ascending=False).head(10)"
   ]
  },
  {
   "cell_type": "markdown",
   "metadata": {},
   "source": [
    "# Building a basic Neural Network Model:\n"
   ]
  },
  {
   "cell_type": "code",
   "execution_count": 43,
   "metadata": {},
   "outputs": [],
   "source": [
    "from sklearn.model_selection import train_test_split\n",
    "X = df.drop('Class',axis=1)\n",
    "y = df['Class']\n",
    "X_train, X_test, y_train, y_test = train_test_split(X, y, test_size=0.3, random_state=101)"
   ]
  },
  {
   "cell_type": "code",
   "execution_count": 44,
   "metadata": {},
   "outputs": [
    {
     "data": {
      "text/html": [
       "<div>\n",
       "<style scoped>\n",
       "    .dataframe tbody tr th:only-of-type {\n",
       "        vertical-align: middle;\n",
       "    }\n",
       "\n",
       "    .dataframe tbody tr th {\n",
       "        vertical-align: top;\n",
       "    }\n",
       "\n",
       "    .dataframe thead th {\n",
       "        text-align: right;\n",
       "    }\n",
       "</style>\n",
       "<table border=\"1\" class=\"dataframe\">\n",
       "  <thead>\n",
       "    <tr style=\"text-align: right;\">\n",
       "      <th></th>\n",
       "      <th>Amount</th>\n",
       "      <th>Time</th>\n",
       "      <th>V1</th>\n",
       "      <th>V2</th>\n",
       "      <th>V3</th>\n",
       "      <th>V4</th>\n",
       "      <th>V5</th>\n",
       "      <th>V6</th>\n",
       "      <th>V7</th>\n",
       "      <th>V8</th>\n",
       "      <th>...</th>\n",
       "      <th>V19</th>\n",
       "      <th>V20</th>\n",
       "      <th>V21</th>\n",
       "      <th>V22</th>\n",
       "      <th>V23</th>\n",
       "      <th>V24</th>\n",
       "      <th>V25</th>\n",
       "      <th>V26</th>\n",
       "      <th>V27</th>\n",
       "      <th>V28</th>\n",
       "    </tr>\n",
       "  </thead>\n",
       "  <tbody>\n",
       "    <tr>\n",
       "      <th>0</th>\n",
       "      <td>149.62</td>\n",
       "      <td>0.0</td>\n",
       "      <td>-1.359807</td>\n",
       "      <td>-0.072781</td>\n",
       "      <td>2.536347</td>\n",
       "      <td>1.378155</td>\n",
       "      <td>-0.338321</td>\n",
       "      <td>0.462388</td>\n",
       "      <td>0.239599</td>\n",
       "      <td>0.098698</td>\n",
       "      <td>...</td>\n",
       "      <td>0.403993</td>\n",
       "      <td>0.251412</td>\n",
       "      <td>-0.018307</td>\n",
       "      <td>0.277838</td>\n",
       "      <td>-0.110474</td>\n",
       "      <td>0.066928</td>\n",
       "      <td>0.128539</td>\n",
       "      <td>-0.189115</td>\n",
       "      <td>0.133558</td>\n",
       "      <td>-0.021053</td>\n",
       "    </tr>\n",
       "    <tr>\n",
       "      <th>1</th>\n",
       "      <td>2.69</td>\n",
       "      <td>0.0</td>\n",
       "      <td>1.191857</td>\n",
       "      <td>0.266151</td>\n",
       "      <td>0.166480</td>\n",
       "      <td>0.448154</td>\n",
       "      <td>0.060018</td>\n",
       "      <td>-0.082361</td>\n",
       "      <td>-0.078803</td>\n",
       "      <td>0.085102</td>\n",
       "      <td>...</td>\n",
       "      <td>-0.145783</td>\n",
       "      <td>-0.069083</td>\n",
       "      <td>-0.225775</td>\n",
       "      <td>-0.638672</td>\n",
       "      <td>0.101288</td>\n",
       "      <td>-0.339846</td>\n",
       "      <td>0.167170</td>\n",
       "      <td>0.125895</td>\n",
       "      <td>-0.008983</td>\n",
       "      <td>0.014724</td>\n",
       "    </tr>\n",
       "    <tr>\n",
       "      <th>2</th>\n",
       "      <td>378.66</td>\n",
       "      <td>1.0</td>\n",
       "      <td>-1.358354</td>\n",
       "      <td>-1.340163</td>\n",
       "      <td>1.773209</td>\n",
       "      <td>0.379780</td>\n",
       "      <td>-0.503198</td>\n",
       "      <td>1.800499</td>\n",
       "      <td>0.791461</td>\n",
       "      <td>0.247676</td>\n",
       "      <td>...</td>\n",
       "      <td>-2.261857</td>\n",
       "      <td>0.524980</td>\n",
       "      <td>0.247998</td>\n",
       "      <td>0.771679</td>\n",
       "      <td>0.909412</td>\n",
       "      <td>-0.689281</td>\n",
       "      <td>-0.327642</td>\n",
       "      <td>-0.139097</td>\n",
       "      <td>-0.055353</td>\n",
       "      <td>-0.059752</td>\n",
       "    </tr>\n",
       "    <tr>\n",
       "      <th>3</th>\n",
       "      <td>123.50</td>\n",
       "      <td>1.0</td>\n",
       "      <td>-0.966272</td>\n",
       "      <td>-0.185226</td>\n",
       "      <td>1.792993</td>\n",
       "      <td>-0.863291</td>\n",
       "      <td>-0.010309</td>\n",
       "      <td>1.247203</td>\n",
       "      <td>0.237609</td>\n",
       "      <td>0.377436</td>\n",
       "      <td>...</td>\n",
       "      <td>-1.232622</td>\n",
       "      <td>-0.208038</td>\n",
       "      <td>-0.108300</td>\n",
       "      <td>0.005274</td>\n",
       "      <td>-0.190321</td>\n",
       "      <td>-1.175575</td>\n",
       "      <td>0.647376</td>\n",
       "      <td>-0.221929</td>\n",
       "      <td>0.062723</td>\n",
       "      <td>0.061458</td>\n",
       "    </tr>\n",
       "    <tr>\n",
       "      <th>4</th>\n",
       "      <td>69.99</td>\n",
       "      <td>2.0</td>\n",
       "      <td>-1.158233</td>\n",
       "      <td>0.877737</td>\n",
       "      <td>1.548718</td>\n",
       "      <td>0.403034</td>\n",
       "      <td>-0.407193</td>\n",
       "      <td>0.095921</td>\n",
       "      <td>0.592941</td>\n",
       "      <td>-0.270533</td>\n",
       "      <td>...</td>\n",
       "      <td>0.803487</td>\n",
       "      <td>0.408542</td>\n",
       "      <td>-0.009431</td>\n",
       "      <td>0.798278</td>\n",
       "      <td>-0.137458</td>\n",
       "      <td>0.141267</td>\n",
       "      <td>-0.206010</td>\n",
       "      <td>0.502292</td>\n",
       "      <td>0.219422</td>\n",
       "      <td>0.215153</td>\n",
       "    </tr>\n",
       "  </tbody>\n",
       "</table>\n",
       "<p>5 rows × 30 columns</p>\n",
       "</div>"
      ],
      "text/plain": [
       "   Amount  Time        V1        V2        V3        V4        V5        V6  \\\n",
       "0  149.62   0.0 -1.359807 -0.072781  2.536347  1.378155 -0.338321  0.462388   \n",
       "1    2.69   0.0  1.191857  0.266151  0.166480  0.448154  0.060018 -0.082361   \n",
       "2  378.66   1.0 -1.358354 -1.340163  1.773209  0.379780 -0.503198  1.800499   \n",
       "3  123.50   1.0 -0.966272 -0.185226  1.792993 -0.863291 -0.010309  1.247203   \n",
       "4   69.99   2.0 -1.158233  0.877737  1.548718  0.403034 -0.407193  0.095921   \n",
       "\n",
       "         V7        V8  ...       V19       V20       V21       V22       V23  \\\n",
       "0  0.239599  0.098698  ...  0.403993  0.251412 -0.018307  0.277838 -0.110474   \n",
       "1 -0.078803  0.085102  ... -0.145783 -0.069083 -0.225775 -0.638672  0.101288   \n",
       "2  0.791461  0.247676  ... -2.261857  0.524980  0.247998  0.771679  0.909412   \n",
       "3  0.237609  0.377436  ... -1.232622 -0.208038 -0.108300  0.005274 -0.190321   \n",
       "4  0.592941 -0.270533  ...  0.803487  0.408542 -0.009431  0.798278 -0.137458   \n",
       "\n",
       "        V24       V25       V26       V27       V28  \n",
       "0  0.066928  0.128539 -0.189115  0.133558 -0.021053  \n",
       "1 -0.339846  0.167170  0.125895 -0.008983  0.014724  \n",
       "2 -0.689281 -0.327642 -0.139097 -0.055353 -0.059752  \n",
       "3 -1.175575  0.647376 -0.221929  0.062723  0.061458  \n",
       "4  0.141267 -0.206010  0.502292  0.219422  0.215153  \n",
       "\n",
       "[5 rows x 30 columns]"
      ]
     },
     "execution_count": 44,
     "metadata": {},
     "output_type": "execute_result"
    }
   ],
   "source": [
    "X.head()"
   ]
  },
  {
   "cell_type": "code",
   "execution_count": 45,
   "metadata": {},
   "outputs": [
    {
     "data": {
      "text/plain": [
       "0    0\n",
       "1    0\n",
       "2    0\n",
       "3    0\n",
       "4    0\n",
       "Name: Class, dtype: int64"
      ]
     },
     "execution_count": 45,
     "metadata": {},
     "output_type": "execute_result"
    }
   ],
   "source": [
    "y.head()"
   ]
  },
  {
   "cell_type": "code",
   "execution_count": 46,
   "metadata": {},
   "outputs": [
    {
     "data": {
      "text/plain": [
       "pandas.core.frame.DataFrame"
      ]
     },
     "execution_count": 46,
     "metadata": {},
     "output_type": "execute_result"
    }
   ],
   "source": [
    "type(X_train)"
   ]
  },
  {
   "cell_type": "code",
   "execution_count": 47,
   "metadata": {},
   "outputs": [],
   "source": [
    "X_train = X_train.values\n",
    "X_test = X_test.values\n",
    "y_train = y_train.values\n",
    "y_test = y_test.values"
   ]
  },
  {
   "cell_type": "code",
   "execution_count": 48,
   "metadata": {},
   "outputs": [
    {
     "data": {
      "text/plain": [
       "numpy.ndarray"
      ]
     },
     "execution_count": 48,
     "metadata": {},
     "output_type": "execute_result"
    }
   ],
   "source": [
    "type(X_train)"
   ]
  },
  {
   "cell_type": "code",
   "execution_count": 49,
   "metadata": {},
   "outputs": [],
   "source": [
    "from tensorflow.keras.models import Sequential\n",
    "from tensorflow.keras.layers import Dense"
   ]
  },
  {
   "cell_type": "code",
   "execution_count": 50,
   "metadata": {},
   "outputs": [],
   "source": [
    "model = Sequential() #Initialise the model.\n",
    "\n",
    "model.add(Dense(units=12,activation='relu')) #Add a single input layer.\n",
    "model.add(Dense(units=1,activation='sigmoid')) #Add an output layer with sigmoid activation, as this is a binary classification.\n",
    "\n",
    "model.compile(optimizer='rmsprop',loss='binary_crossentropy') #compile the model, choose how the cost function is optimised."
   ]
  },
  {
   "cell_type": "code",
   "execution_count": 31,
   "metadata": {},
   "outputs": [
    {
     "name": "stdout",
     "output_type": "stream",
     "text": [
      "Epoch 1/10\n",
      "6231/6231 [==============================] - 14s 2ms/step - loss: 8.0907 - val_loss: 1.2060\n",
      "Epoch 2/10\n",
      "6231/6231 [==============================] - 14s 2ms/step - loss: 7.0452 - val_loss: 0.1854\n",
      "Epoch 3/10\n",
      "6231/6231 [==============================] - 16s 3ms/step - loss: 6.6982 - val_loss: 0.6719\n",
      "Epoch 4/10\n",
      "6231/6231 [==============================] - 17s 3ms/step - loss: 6.2368 - val_loss: 0.4117\n",
      "Epoch 5/10\n",
      "6231/6231 [==============================] - 16s 3ms/step - loss: 6.3028 - val_loss: 1.5672\n",
      "Epoch 6/10\n",
      "6231/6231 [==============================] - 17s 3ms/step - loss: 6.5510 - val_loss: 0.8592\n",
      "Epoch 7/10\n",
      "6231/6231 [==============================] - 17s 3ms/step - loss: 6.4388 - val_loss: 0.2892\n",
      "Epoch 8/10\n",
      "6231/6231 [==============================] - 17s 3ms/step - loss: 5.6219 - val_loss: 0.3806\n",
      "Epoch 9/10\n",
      "6231/6231 [==============================] - 16s 3ms/step - loss: 5.6068 - val_loss: 1.1195\n",
      "Epoch 10/10\n",
      "6231/6231 [==============================] - 17s 3ms/step - loss: 5.7109 - val_loss: 0.2819\n"
     ]
    },
    {
     "data": {
      "text/plain": [
       "<tensorflow.python.keras.callbacks.History at 0x1a606a69730>"
      ]
     },
     "execution_count": 31,
     "metadata": {},
     "output_type": "execute_result"
    }
   ],
   "source": [
    "model.fit(X_train,y_train,                   #Pass in the training data\n",
    "          epochs=10,                         #Specify how long we should train the model for (increasing this could lead to overfitting!)\n",
    "          validation_data=(X_test,y_test))   #Specify validation data so that the model performance on the test set can be tracked, this is a good way to see if we get any overfitting!"
   ]
  },
  {
   "cell_type": "code",
   "execution_count": 32,
   "metadata": {},
   "outputs": [
    {
     "data": {
      "image/png": "[encoded data removed]",
      "text/plain": [
       "<Figure size 432x288 with 1 Axes>"
      ]
     },
     "metadata": {},
     "output_type": "display_data"
    }
   ],
   "source": [
    "losses = pd.DataFrame(model.history.history)\n",
    "losses.plot()\n",
    "plt.xlabel('Epoch')\n",
    "plt.ylabel('Loss')\n",
    "plt.title('Loss versus training epoch')\n",
    "plt.show()"
   ]
  },
  {
   "cell_type": "code",
   "execution_count": 33,
   "metadata": {},
   "outputs": [],
   "source": [
    "predictions = (model.predict(X_test) > 0.5).astype(\"int32\")"
   ]
  },
  {
   "cell_type": "code",
   "execution_count": 34,
   "metadata": {},
   "outputs": [
    {
     "name": "stdout",
     "output_type": "stream",
     "text": [
      "              precision    recall  f1-score   support\n",
      "\n",
      "           0       1.00      1.00      1.00     85299\n",
      "           1       0.37      0.75      0.49       144\n",
      "\n",
      "    accuracy                           1.00     85443\n",
      "   macro avg       0.68      0.87      0.75     85443\n",
      "weighted avg       1.00      1.00      1.00     85443\n",
      "\n"
     ]
    }
   ],
   "source": [
    "from sklearn.metrics import classification_report, confusion_matrix\n",
    "print(classification_report(y_test,predictions))"
   ]
  },
  {
   "cell_type": "code",
   "execution_count": 35,
   "metadata": {},
   "outputs": [
    {
     "data": {
      "image/png": "[encoded data removed]",
      "text/plain": [
       "<Figure size 432x288 with 1 Axes>"
      ]
     },
     "metadata": {},
     "output_type": "display_data"
    }
   ],
   "source": [
    "#Labels for the plot\n",
    "classes = ['Legit','Fraud']\n",
    "predicted_classes = ['Predicted ' + item for item in classes]\n",
    "actual_classes = ['Actually ' + item for item in classes]\n",
    "\n",
    "#Create a dataframe from confusion_matrix entries for easy plotting\n",
    "conf_df = pd.DataFrame(data=confusion_matrix(y_test,predictions),columns=predicted_classes,\n",
    "            index=actual_classes)\n",
    "\n",
    "#Seaborn heatmap\n",
    "sns.heatmap(conf_df,annot=True,fmt='g',cbar=False)\n",
    "plt.xlabel('Predicted Label')\n",
    "plt.ylabel('Actual Label')\n",
    "plt.xticks(rotation=20)\n",
    "plt.yticks(rotation=30)\n",
    "plt.title('Confusion matrix for the creditcard data set')\n",
    "plt.show()"
   ]
  },
  {
   "cell_type": "markdown",
   "metadata": {},
   "source": [
    "# Performance Checkpoint 1: Scaling the data\n"
   ]
  },
  {
   "cell_type": "code",
   "execution_count": 51,
   "metadata": {},
   "outputs": [],
   "source": [
    "X = df.drop(['Class'],axis=1)\n",
    "y = df['Class']\n",
    "\n",
    "X_train, X_test, y_train, y_test = train_test_split(X, y, test_size=0.3, random_state=101)"
   ]
  },
  {
   "cell_type": "code",
   "execution_count": 52,
   "metadata": {},
   "outputs": [
    {
     "data": {
      "text/plain": [
       "Amount      245.370386\n",
       "Time      47490.518337\n",
       "V1            1.959130\n",
       "V2            1.651955\n",
       "V3            1.515264\n",
       "V4            1.417068\n",
       "V5            1.370592\n",
       "V6            1.327665\n",
       "V7            1.224315\n",
       "V8            1.206754\n",
       "V9            1.097962\n",
       "V10           1.088078\n",
       "V11           1.021105\n",
       "V12           1.001410\n",
       "V13           0.994087\n",
       "V14           0.959856\n",
       "V15           0.914849\n",
       "V16           0.875531\n",
       "V17           0.850556\n",
       "V18           0.838355\n",
       "V19           0.814053\n",
       "V20           0.765510\n",
       "V21           0.740599\n",
       "V22           0.726164\n",
       "V23           0.616530\n",
       "V24           0.605259\n",
       "V25           0.521409\n",
       "V26           0.482813\n",
       "V27           0.398738\n",
       "V28           0.333405\n",
       "dtype: float64"
      ]
     },
     "execution_count": 52,
     "metadata": {},
     "output_type": "execute_result"
    }
   ],
   "source": [
    "np.std(X_train,axis=0) #calculate the standard-deviation within each column\n"
   ]
  },
  {
   "cell_type": "code",
   "execution_count": 53,
   "metadata": {},
   "outputs": [
    {
     "data": {
      "text/plain": [
       "Amount       88.200971\n",
       "Time      94839.846667\n",
       "V1            0.002987\n",
       "V2            0.002746\n",
       "V3           -0.001451\n",
       "V4            0.000761\n",
       "V5            0.000041\n",
       "V6            0.001789\n",
       "V7            0.000222\n",
       "V8           -0.002651\n",
       "V9            0.000580\n",
       "V10           0.000738\n",
       "V11           0.000440\n",
       "V12          -0.000099\n",
       "V13           0.000798\n",
       "V14          -0.000039\n",
       "V15          -0.001177\n",
       "V16          -0.001813\n",
       "V17          -0.000684\n",
       "V18           0.002318\n",
       "V19          -0.000299\n",
       "V20          -0.000066\n",
       "V21           0.000199\n",
       "V22          -0.001446\n",
       "V23           0.000879\n",
       "V24           0.000802\n",
       "V25          -0.000456\n",
       "V26           0.000200\n",
       "V27          -0.000140\n",
       "V28          -0.000151\n",
       "dtype: float64"
      ]
     },
     "execution_count": 53,
     "metadata": {},
     "output_type": "execute_result"
    }
   ],
   "source": [
    "np.mean(X_train,axis=0) #Calculate the mean within each column\n"
   ]
  },
  {
   "cell_type": "code",
   "execution_count": 54,
   "metadata": {},
   "outputs": [],
   "source": [
    "from sklearn.preprocessing import StandardScaler"
   ]
  },
  {
   "cell_type": "code",
   "execution_count": 55,
   "metadata": {},
   "outputs": [],
   "source": [
    "scaler = StandardScaler()\n",
    "\n",
    "#Convert to numpy arrays for tensorflow\n",
    "y_train = y_train.values\n",
    "y_test = y_test.values"
   ]
  },
  {
   "cell_type": "code",
   "execution_count": 56,
   "metadata": {},
   "outputs": [],
   "source": [
    "X_train_scaled = scaler.fit_transform(X_train,y_train)\n",
    "X_test_scaled = scaler.transform(X_test)"
   ]
  },
  {
   "cell_type": "code",
   "execution_count": 57,
   "metadata": {},
   "outputs": [
    {
     "data": {
      "text/plain": [
       "array([1., 1., 1., 1., 1., 1., 1., 1., 1., 1., 1., 1., 1., 1., 1., 1., 1.,\n",
       "       1., 1., 1., 1., 1., 1., 1., 1., 1., 1., 1., 1., 1.])"
      ]
     },
     "execution_count": 57,
     "metadata": {},
     "output_type": "execute_result"
    }
   ],
   "source": [
    "np.std(X_train_scaled,axis=0) #Check that the column standard deviations are all 1\n"
   ]
  },
  {
   "cell_type": "code",
   "execution_count": 58,
   "metadata": {},
   "outputs": [
    {
     "data": {
      "text/plain": [
       "True"
      ]
     },
     "execution_count": 58,
     "metadata": {},
     "output_type": "execute_result"
    }
   ],
   "source": [
    "np.allclose(np.mean(X_train_scaled,axis=0), 0, rtol=1e-17) #Check that the column means are each very close to 0 (they are actually like 1e-18, so within machine to 0)"
   ]
  },
  {
   "cell_type": "code",
   "execution_count": 59,
   "metadata": {},
   "outputs": [],
   "source": [
    "from tensorflow.keras.layers import Dropout\n",
    "model = Sequential()\n",
    "model.add(Dense(units=12,activation='relu'))\n",
    "model.add(Dense(units=1,activation='sigmoid'))\n",
    "model.compile(optimizer='rmsprop',loss='binary_crossentropy')"
   ]
  },
  {
   "cell_type": "code",
   "execution_count": 45,
   "metadata": {},
   "outputs": [
    {
     "name": "stdout",
     "output_type": "stream",
     "text": [
      "Epoch 1/10\n",
      "6231/6231 [==============================] - 14s 2ms/step - loss: 0.0320 - val_loss: 0.0079\n",
      "Epoch 2/10\n",
      "6231/6231 [==============================] - 15s 2ms/step - loss: 0.0094 - val_loss: 0.0074\n",
      "Epoch 3/10\n",
      "6231/6231 [==============================] - 17s 3ms/step - loss: 0.0085 - val_loss: 0.0067\n",
      "Epoch 4/10\n",
      "6231/6231 [==============================] - 16s 3ms/step - loss: 0.0078 - val_loss: 0.0061\n",
      "Epoch 5/10\n",
      "6231/6231 [==============================] - 16s 3ms/step - loss: 0.0076 - val_loss: 0.0065\n",
      "Epoch 6/10\n",
      "6231/6231 [==============================] - 16s 3ms/step - loss: 0.0074 - val_loss: 0.0058\n",
      "Epoch 7/10\n",
      "6231/6231 [==============================] - 16s 3ms/step - loss: 0.0074 - val_loss: 0.0058\n",
      "Epoch 8/10\n",
      "6231/6231 [==============================] - 16s 3ms/step - loss: 0.0075 - val_loss: 0.0058\n",
      "Epoch 9/10\n",
      "6231/6231 [==============================] - 16s 3ms/step - loss: 0.0079 - val_loss: 0.0064\n",
      "Epoch 10/10\n",
      "6231/6231 [==============================] - 16s 3ms/step - loss: 0.0075 - val_loss: 0.0058\n"
     ]
    },
    {
     "data": {
      "text/plain": [
       "<tensorflow.python.keras.callbacks.History at 0x1a606c2ea60>"
      ]
     },
     "execution_count": 45,
     "metadata": {},
     "output_type": "execute_result"
    }
   ],
   "source": [
    "model.fit(X_train_scaled,y_train,validation_data=(X_test_scaled,y_test),epochs=10)\n"
   ]
  },
  {
   "cell_type": "code",
   "execution_count": 46,
   "metadata": {},
   "outputs": [
    {
     "data": {
      "image/png": "[encoded data removed]",
      "text/plain": [
       "<Figure size 432x288 with 1 Axes>"
      ]
     },
     "metadata": {},
     "output_type": "display_data"
    }
   ],
   "source": [
    "losses = pd.DataFrame(model.history.history)\n",
    "losses.plot()\n",
    "plt.show()"
   ]
  },
  {
   "cell_type": "code",
   "execution_count": 87,
   "metadata": {},
   "outputs": [
    {
     "name": "stdout",
     "output_type": "stream",
     "text": [
      "              precision    recall  f1-score   support\n",
      "\n",
      "           0       1.00      0.13      0.23     85299\n",
      "           1       0.00      1.00      0.00       144\n",
      "\n",
      "    accuracy                           0.13     85443\n",
      "   macro avg       0.50      0.56      0.12     85443\n",
      "weighted avg       1.00      0.13      0.23     85443\n",
      "\n"
     ]
    }
   ],
   "source": [
    "predictions_scaled = (model.predict(X_test_scaled) > 0.5).astype(\"int32\")\n",
    "print(classification_report(y_test,predictions_scaled))"
   ]
  },
  {
   "cell_type": "code",
   "execution_count": 48,
   "metadata": {},
   "outputs": [
    {
     "data": {
      "image/png": "[encoded data removed]",
      "text/plain": [
       "<Figure size 432x288 with 1 Axes>"
      ]
     },
     "metadata": {},
     "output_type": "display_data"
    }
   ],
   "source": [
    "conf_df_scaled = pd.DataFrame(data=confusion_matrix(y_test,predictions_scaled),columns=predicted_classes,\n",
    "            index=actual_classes)\n",
    "\n",
    "sns.heatmap(conf_df_scaled,annot=True,fmt='g',cbar=False)\n",
    "plt.xlabel('Predicted Label')\n",
    "plt.ylabel('Actual Label')\n",
    "plt.xticks(rotation=20)\n",
    "plt.yticks(rotation=30)\n",
    "plt.title('Confusion Matrix for The Scaled Creditcard Data Set')\n",
    "plt.show()"
   ]
  },
  {
   "cell_type": "markdown",
   "metadata": {},
   "source": [
    "# Performance Checkpoint 2: Upsampling and Downsampling the training data"
   ]
  },
  {
   "cell_type": "code",
   "execution_count": 49,
   "metadata": {},
   "outputs": [],
   "source": [
    "from sklearn.utils import resample\n",
    "X_train, X_test, y_train, y_test = train_test_split(X, y, test_size=0.3, random_state=101)\n",
    "\n",
    "#Create a dataframe which houses only the training data (so we can use pandas to manipulate it)\n",
    "df_train = X_train\n",
    "df_train['Class'] = y_train\n",
    "\n",
    "df_majority = df_train[df_train['Class']==0] #Seperate the legitimate transactions\n",
    "df_minority = df_train[df_train['Class']==1] #From the fraudulent transactions\n",
    "\n",
    "#Downsample using sklearn\n",
    "df_majority_downsampled = resample(df_majority, \n",
    "                                 replace=False,    \n",
    "                                 n_samples=348,     \n",
    "                                 random_state=101)\n",
    "\n",
    "df_downsampled = pd.concat([df_majority_downsampled, df_minority])"
   ]
  },
  {
   "cell_type": "code",
   "execution_count": 50,
   "metadata": {},
   "outputs": [
    {
     "data": {
      "text/plain": [
       "1    348\n",
       "0    348\n",
       "Name: Class, dtype: int64"
      ]
     },
     "execution_count": 50,
     "metadata": {},
     "output_type": "execute_result"
    }
   ],
   "source": [
    "df_downsampled['Class'].value_counts()"
   ]
  },
  {
   "cell_type": "code",
   "execution_count": 51,
   "metadata": {},
   "outputs": [],
   "source": [
    "X_train = df_downsampled.drop('Class',axis=1)\n",
    "y_train = df_downsampled['Class']\n",
    "\n",
    "scaler = StandardScaler()\n",
    "X_train = scaler.fit_transform(X_train,y_train)\n",
    "X_test = scaler.transform(X_test)\n",
    "\n",
    "y_test = y_test.values\n",
    "y_train = y_train.values"
   ]
  },
  {
   "cell_type": "code",
   "execution_count": 52,
   "metadata": {},
   "outputs": [],
   "source": [
    "model = Sequential()\n",
    "model.add(Dense(units=12,activation='relu'))\n",
    "model.add(Dense(units=1,activation='sigmoid'))\n",
    "model.compile(optimizer='rmsprop',loss='binary_crossentropy')"
   ]
  },
  {
   "cell_type": "code",
   "execution_count": 53,
   "metadata": {},
   "outputs": [
    {
     "name": "stdout",
     "output_type": "stream",
     "text": [
      "Epoch 1/30\n",
      "22/22 [==============================] - 3s 132ms/step - loss: 0.6641 - val_loss: 0.5889\n",
      "Epoch 2/30\n",
      "22/22 [==============================] - 3s 124ms/step - loss: 0.5402 - val_loss: 0.4927\n",
      "Epoch 3/30\n",
      "22/22 [==============================] - 3s 123ms/step - loss: 0.4689 - val_loss: 0.4142\n",
      "Epoch 4/30\n",
      "22/22 [==============================] - 3s 125ms/step - loss: 0.4155 - val_loss: 0.3463\n",
      "Epoch 5/30\n",
      "22/22 [==============================] - 3s 127ms/step - loss: 0.3756 - val_loss: 0.2939\n",
      "Epoch 6/30\n",
      "22/22 [==============================] - 3s 125ms/step - loss: 0.3443 - val_loss: 0.2535\n",
      "Epoch 7/30\n",
      "22/22 [==============================] - 3s 126ms/step - loss: 0.3198 - val_loss: 0.2283\n",
      "Epoch 8/30\n",
      "22/22 [==============================] - 3s 129ms/step - loss: 0.3006 - val_loss: 0.2066\n",
      "Epoch 9/30\n",
      "22/22 [==============================] - 3s 134ms/step - loss: 0.2843 - val_loss: 0.1905\n",
      "Epoch 10/30\n",
      "22/22 [==============================] - 3s 142ms/step - loss: 0.2702 - val_loss: 0.1823\n",
      "Epoch 11/30\n",
      "22/22 [==============================] - 3s 150ms/step - loss: 0.2575 - val_loss: 0.1760\n",
      "Epoch 12/30\n",
      "22/22 [==============================] - 3s 146ms/step - loss: 0.2466 - val_loss: 0.1700\n",
      "Epoch 13/30\n",
      "22/22 [==============================] - 3s 142ms/step - loss: 0.2364 - val_loss: 0.1626\n",
      "Epoch 14/30\n",
      "22/22 [==============================] - 3s 151ms/step - loss: 0.2274 - val_loss: 0.1558\n",
      "Epoch 15/30\n",
      "22/22 [==============================] - 3s 142ms/step - loss: 0.2190 - val_loss: 0.1510\n",
      "Epoch 16/30\n",
      "22/22 [==============================] - 3s 140ms/step - loss: 0.2103 - val_loss: 0.1537\n",
      "Epoch 17/30\n",
      "22/22 [==============================] - 3s 139ms/step - loss: 0.2029 - val_loss: 0.1493\n",
      "Epoch 18/30\n",
      "22/22 [==============================] - 3s 144ms/step - loss: 0.1956 - val_loss: 0.1459\n",
      "Epoch 19/30\n",
      "22/22 [==============================] - 3s 143ms/step - loss: 0.1893 - val_loss: 0.1411\n",
      "Epoch 20/30\n",
      "22/22 [==============================] - 3s 144ms/step - loss: 0.1829 - val_loss: 0.1377\n",
      "Epoch 21/30\n",
      "22/22 [==============================] - 3s 139ms/step - loss: 0.1772 - val_loss: 0.1361\n",
      "Epoch 22/30\n",
      "22/22 [==============================] - 3s 142ms/step - loss: 0.1720 - val_loss: 0.1320\n",
      "Epoch 23/30\n",
      "22/22 [==============================] - 3s 143ms/step - loss: 0.1672 - val_loss: 0.1318\n",
      "Epoch 24/30\n",
      "22/22 [==============================] - 3s 144ms/step - loss: 0.1629 - val_loss: 0.1277\n",
      "Epoch 25/30\n",
      "22/22 [==============================] - 3s 146ms/step - loss: 0.1587 - val_loss: 0.1245\n",
      "Epoch 26/30\n",
      "22/22 [==============================] - 3s 144ms/step - loss: 0.1547 - val_loss: 0.1263\n",
      "Epoch 27/30\n",
      "22/22 [==============================] - 3s 141ms/step - loss: 0.1507 - val_loss: 0.1233\n",
      "Epoch 28/30\n",
      "22/22 [==============================] - 3s 144ms/step - loss: 0.1473 - val_loss: 0.1230\n",
      "Epoch 29/30\n",
      "22/22 [==============================] - 3s 139ms/step - loss: 0.1440 - val_loss: 0.1237\n",
      "Epoch 30/30\n",
      "22/22 [==============================] - 3s 143ms/step - loss: 0.1412 - val_loss: 0.1232\n"
     ]
    },
    {
     "data": {
      "text/plain": [
       "<tensorflow.python.keras.callbacks.History at 0x1a60686d610>"
      ]
     },
     "execution_count": 53,
     "metadata": {},
     "output_type": "execute_result"
    }
   ],
   "source": [
    "model.fit(X_train,y_train,epochs=30,validation_data=(X_test,y_test),verbose=1)\n"
   ]
  },
  {
   "cell_type": "code",
   "execution_count": 54,
   "metadata": {},
   "outputs": [
    {
     "data": {
      "image/png": "[encoded data removed]",
      "text/plain": [
       "<Figure size 432x288 with 1 Axes>"
      ]
     },
     "metadata": {},
     "output_type": "display_data"
    }
   ],
   "source": [
    "losses = pd.DataFrame(model.history.history)\n",
    "losses.plot()\n",
    "plt.show()"
   ]
  },
  {
   "cell_type": "code",
   "execution_count": 55,
   "metadata": {},
   "outputs": [
    {
     "name": "stdout",
     "output_type": "stream",
     "text": [
      "              precision    recall  f1-score   support\n",
      "\n",
      "           0       1.00      0.98      0.99     85299\n",
      "           1       0.07      0.89      0.13       144\n",
      "\n",
      "    accuracy                           0.98     85443\n",
      "   macro avg       0.54      0.93      0.56     85443\n",
      "weighted avg       1.00      0.98      0.99     85443\n",
      "\n"
     ]
    }
   ],
   "source": [
    "predictions = model.predict_classes(X_test)\n",
    "print(classification_report(y_test,predictions))"
   ]
  },
  {
   "cell_type": "code",
   "execution_count": 56,
   "metadata": {},
   "outputs": [
    {
     "data": {
      "image/png": "[encoded data removed]",
      "text/plain": [
       "<Figure size 432x288 with 1 Axes>"
      ]
     },
     "metadata": {},
     "output_type": "display_data"
    }
   ],
   "source": [
    "conf_df = pd.DataFrame(data=confusion_matrix(y_test,predictions),columns=predicted_classes,\n",
    "            index=actual_classes)\n",
    "\n",
    "sns.heatmap(conf_df,annot=True,fmt='g',cbar=False)\n",
    "plt.xlabel('Predicted Label')\n",
    "plt.ylabel('Actual Label')\n",
    "plt.xticks(rotation=20)\n",
    "plt.yticks(rotation=30)\n",
    "plt.title('Confusion matrix for the creditcard data set')\n",
    "plt.show()"
   ]
  },
  {
   "cell_type": "code",
   "execution_count": 58,
   "metadata": {},
   "outputs": [],
   "source": [
    "from imblearn.over_sampling import SMOTE\n",
    "X_train, X_test, y_train, y_test = train_test_split(X, y, test_size=0.3, random_state=101)\n",
    "X_train, y_train = SMOTE().fit_resample(X_train, y_train)"
   ]
  },
  {
   "cell_type": "code",
   "execution_count": 59,
   "metadata": {},
   "outputs": [
    {
     "data": {
      "text/plain": [
       "(199016, 199016)"
      ]
     },
     "execution_count": 59,
     "metadata": {},
     "output_type": "execute_result"
    }
   ],
   "source": [
    "#Number of Legit transactions, Number of Fraud transactions\n",
    "sum(y_train == 0), sum(y_train==1)"
   ]
  },
  {
   "cell_type": "code",
   "execution_count": 60,
   "metadata": {},
   "outputs": [],
   "source": [
    "scaler = StandardScaler()\n",
    "X_train = scaler.fit_transform(X_train,y_train)\n",
    "X_test = scaler.transform(X_test)\n",
    "\n",
    "y_train = y_train.values\n",
    "y_test = y_test.values"
   ]
  },
  {
   "cell_type": "code",
   "execution_count": 61,
   "metadata": {},
   "outputs": [],
   "source": [
    "from tensorflow.keras.layers import Dropout\n",
    "model = Sequential()\n",
    "model.add(Dense(units=12,activation='relu'))\n",
    "model.add(Dropout(rate=0.25))\n",
    "model.add(Dense(units=1,activation='sigmoid'))\n",
    "model.compile(optimizer='rmsprop',loss='binary_crossentropy')"
   ]
  },
  {
   "cell_type": "code",
   "execution_count": 62,
   "metadata": {},
   "outputs": [
    {
     "name": "stdout",
     "output_type": "stream",
     "text": [
      "Epoch 1/30\n",
      "12439/12439 [==============================] - 26s 2ms/step - loss: 0.0875 - val_loss: 0.0415\n",
      "Epoch 2/30\n",
      "12439/12439 [==============================] - 29s 2ms/step - loss: 0.0552 - val_loss: 0.0313\n",
      "Epoch 3/30\n",
      "12439/12439 [==============================] - 30s 2ms/step - loss: 0.0499 - val_loss: 0.0305\n",
      "Epoch 4/30\n",
      "12439/12439 [==============================] - 29s 2ms/step - loss: 0.0495 - val_loss: 0.0295\n",
      "Epoch 5/30\n",
      "12439/12439 [==============================] - 29s 2ms/step - loss: 0.0479 - val_loss: 0.0338\n",
      "Epoch 6/30\n",
      "12439/12439 [==============================] - 32s 3ms/step - loss: 0.0469 - val_loss: 0.0310\n",
      "Epoch 7/30\n",
      "12439/12439 [==============================] - 31s 2ms/step - loss: 0.0487 - val_loss: 0.0350\n",
      "Epoch 8/30\n",
      "12439/12439 [==============================] - 32s 3ms/step - loss: 0.0482 - val_loss: 0.0345\n",
      "Epoch 9/30\n",
      "12439/12439 [==============================] - 32s 3ms/step - loss: 0.0479 - val_loss: 0.0314\n",
      "Epoch 10/30\n",
      "12439/12439 [==============================] - 30s 2ms/step - loss: 0.0491 - val_loss: 0.0365\n",
      "Epoch 11/30\n",
      "12439/12439 [==============================] - 28s 2ms/step - loss: 0.0496 - val_loss: 0.0369\n",
      "Epoch 12/30\n",
      "12439/12439 [==============================] - 28s 2ms/step - loss: 0.0524 - val_loss: 0.0403\n",
      "Epoch 13/30\n",
      "12439/12439 [==============================] - 28s 2ms/step - loss: 0.0513 - val_loss: 0.0377\n",
      "Epoch 14/30\n",
      "12439/12439 [==============================] - 28s 2ms/step - loss: 0.0525 - val_loss: 0.0424\n",
      "Epoch 15/30\n",
      "12439/12439 [==============================] - 28s 2ms/step - loss: 0.0542 - val_loss: 0.0380\n",
      "Epoch 16/30\n",
      "12439/12439 [==============================] - 28s 2ms/step - loss: 0.0536 - val_loss: 0.0389\n",
      "Epoch 17/30\n",
      "12439/12439 [==============================] - 28s 2ms/step - loss: 0.0540 - val_loss: 0.0434\n",
      "Epoch 18/30\n",
      "12439/12439 [==============================] - 28s 2ms/step - loss: 0.0565 - val_loss: 0.0428\n",
      "Epoch 19/30\n",
      "12439/12439 [==============================] - 29s 2ms/step - loss: 0.0557 - val_loss: 0.0426\n",
      "Epoch 20/30\n",
      "12439/12439 [==============================] - 30s 2ms/step - loss: 0.0561 - val_loss: 0.0448\n",
      "Epoch 21/30\n",
      "12439/12439 [==============================] - 29s 2ms/step - loss: 0.0566 - val_loss: 0.0473\n",
      "Epoch 22/30\n",
      "12439/12439 [==============================] - 29s 2ms/step - loss: 0.0594 - val_loss: 0.0432\n",
      "Epoch 23/30\n",
      "12439/12439 [==============================] - 29s 2ms/step - loss: 0.0587 - val_loss: 0.0460\n",
      "Epoch 24/30\n",
      "12439/12439 [==============================] - 29s 2ms/step - loss: 0.0604 - val_loss: 0.0475\n",
      "Epoch 25/30\n",
      "12439/12439 [==============================] - 29s 2ms/step - loss: 0.0611 - val_loss: 0.0486\n",
      "Epoch 26/30\n",
      "12439/12439 [==============================] - 29s 2ms/step - loss: 0.0624 - val_loss: 0.0482\n",
      "Epoch 27/30\n",
      "12439/12439 [==============================] - 29s 2ms/step - loss: 0.0613 - val_loss: 0.0501\n",
      "Epoch 28/30\n",
      "12439/12439 [==============================] - 37s 3ms/step - loss: 0.0641 - val_loss: 0.0532\n",
      "Epoch 29/30\n",
      "12439/12439 [==============================] - 36s 3ms/step - loss: 0.0635 - val_loss: 0.0494\n",
      "Epoch 30/30\n",
      "12439/12439 [==============================] - 35s 3ms/step - loss: 0.0641 - val_loss: 0.0511\n"
     ]
    },
    {
     "data": {
      "text/plain": [
       "<tensorflow.python.keras.callbacks.History at 0x1a637c289d0>"
      ]
     },
     "execution_count": 62,
     "metadata": {},
     "output_type": "execute_result"
    }
   ],
   "source": [
    "model.fit(X_train,y_train,epochs=30,validation_data=(X_test,y_test),verbose=1)"
   ]
  },
  {
   "cell_type": "code",
   "execution_count": 63,
   "metadata": {},
   "outputs": [
    {
     "data": {
      "image/png": "[encoded data removed]",
      "text/plain": [
       "<Figure size 432x288 with 1 Axes>"
      ]
     },
     "metadata": {},
     "output_type": "display_data"
    }
   ],
   "source": [
    "losses = pd.DataFrame(model.history.history)\n",
    "losses.plot()\n",
    "plt.show()"
   ]
  },
  {
   "cell_type": "code",
   "execution_count": 64,
   "metadata": {},
   "outputs": [],
   "source": [
    "predictions = model.predict_classes(X_test)"
   ]
  },
  {
   "cell_type": "code",
   "execution_count": 65,
   "metadata": {},
   "outputs": [
    {
     "name": "stdout",
     "output_type": "stream",
     "text": [
      "              precision    recall  f1-score   support\n",
      "\n",
      "           0       1.00      1.00      1.00     85299\n",
      "           1       0.23      0.87      0.36       144\n",
      "\n",
      "    accuracy                           0.99     85443\n",
      "   macro avg       0.61      0.93      0.68     85443\n",
      "weighted avg       1.00      0.99      1.00     85443\n",
      "\n"
     ]
    }
   ],
   "source": [
    "print(classification_report(y_test,predictions))"
   ]
  },
  {
   "cell_type": "code",
   "execution_count": 66,
   "metadata": {},
   "outputs": [
    {
     "data": {
      "image/png": "[encoded data removed]",
      "text/plain": [
       "<Figure size 432x288 with 1 Axes>"
      ]
     },
     "metadata": {},
     "output_type": "display_data"
    }
   ],
   "source": [
    "conf_df = pd.DataFrame(data=confusion_matrix(y_test,predictions),columns=predicted_classes,\n",
    "            index=actual_classes)\n",
    "\n",
    "sns.heatmap(conf_df,annot=True,fmt='g',cbar=False)\n",
    "plt.xlabel('Predicted Label')\n",
    "plt.ylabel('Actual Label')\n",
    "plt.xticks(rotation=20)\n",
    "plt.yticks(rotation=30)\n",
    "plt.title('Confusion matrix for the creditcard data set')\n",
    "plt.show()"
   ]
  },
  {
   "cell_type": "markdown",
   "metadata": {},
   "source": [
    "# Performance Checkpoint 3: ROC curves and Precision-Recall curves"
   ]
  },
  {
   "cell_type": "code",
   "execution_count": 67,
   "metadata": {},
   "outputs": [
    {
     "name": "stdout",
     "output_type": "stream",
     "text": [
      "Epoch 1/10\n",
      "6231/6231 [==============================] - 18s 3ms/step - loss: 0.0213 - val_loss: 0.0074\n",
      "Epoch 2/10\n",
      "6231/6231 [==============================] - 19s 3ms/step - loss: 0.0091 - val_loss: 0.0072\n",
      "Epoch 3/10\n",
      "6231/6231 [==============================] - 19s 3ms/step - loss: 0.0086 - val_loss: 0.0066\n",
      "Epoch 4/10\n",
      "6231/6231 [==============================] - 19s 3ms/step - loss: 0.0074 - val_loss: 0.0065\n",
      "Epoch 5/10\n",
      "6231/6231 [==============================] - 19s 3ms/step - loss: 0.0075 - val_loss: 0.0066\n",
      "Epoch 6/10\n",
      "6231/6231 [==============================] - 17s 3ms/step - loss: 0.0074 - val_loss: 0.0061\n",
      "Epoch 7/10\n",
      "6231/6231 [==============================] - 17s 3ms/step - loss: 0.0072 - val_loss: 0.0061\n",
      "Epoch 8/10\n",
      "6231/6231 [==============================] - 17s 3ms/step - loss: 0.0077 - val_loss: 0.0060\n",
      "Epoch 9/10\n",
      "6231/6231 [==============================] - 17s 3ms/step - loss: 0.0069 - val_loss: 0.0057\n",
      "Epoch 10/10\n",
      "6231/6231 [==============================] - 16s 3ms/step - loss: 0.0069 - val_loss: 0.0056\n"
     ]
    },
    {
     "data": {
      "text/plain": [
       "<tensorflow.python.keras.callbacks.History at 0x1a63748dee0>"
      ]
     },
     "execution_count": 67,
     "metadata": {},
     "output_type": "execute_result"
    }
   ],
   "source": [
    "X_train, X_test, y_train, y_test = train_test_split(X, y, test_size=0.3, random_state=101)\n",
    "\n",
    "scaler = StandardScaler()\n",
    "X_train = scaler.fit_transform(X_train,y_train)\n",
    "X_test = scaler.transform(X_test)\n",
    "\n",
    "y_train = y_train.values\n",
    "y_test = y_test.values\n",
    "\n",
    "model = Sequential()\n",
    "model.add(Dense(units=12,activation='relu'))\n",
    "model.add(Dense(units=1,activation='sigmoid'))\n",
    "model.compile(optimizer='rmsprop',loss='binary_crossentropy')\n",
    "model.fit(X_train,y_train,epochs=10,validation_data=(X_test,y_test),verbose=1)"
   ]
  },
  {
   "cell_type": "code",
   "execution_count": 68,
   "metadata": {},
   "outputs": [
    {
     "data": {
      "image/png": "[encoded data removed]",
      "text/plain": [
       "<Figure size 432x288 with 1 Axes>"
      ]
     },
     "metadata": {},
     "output_type": "display_data"
    }
   ],
   "source": [
    "losses = pd.DataFrame(model.history.history)\n",
    "losses.plot()\n",
    "plt.show()"
   ]
  },
  {
   "cell_type": "code",
   "execution_count": 69,
   "metadata": {},
   "outputs": [
    {
     "data": {
      "text/plain": [
       "array([[6.8971812e-10],\n",
       "       [1.1596963e-09],\n",
       "       [6.6742821e-08],\n",
       "       ...,\n",
       "       [2.2649404e-08],\n",
       "       [2.8807998e-10],\n",
       "       [1.3326087e-14]], dtype=float32)"
      ]
     },
     "execution_count": 69,
     "metadata": {},
     "output_type": "execute_result"
    }
   ],
   "source": [
    "probs = model.predict(X_test)\n",
    "probs"
   ]
  },
  {
   "cell_type": "code",
   "execution_count": 70,
   "metadata": {},
   "outputs": [],
   "source": [
    "from sklearn.metrics import precision_recall_curve\n",
    "precision, recall, thresholds = precision_recall_curve(y_test, probs)"
   ]
  },
  {
   "cell_type": "code",
   "execution_count": 71,
   "metadata": {},
   "outputs": [
    {
     "name": "stdout",
     "output_type": "stream",
     "text": [
      "Best Threshold=0.095552, F-Score=0.844\n"
     ]
    },
    {
     "data": {
      "image/png": "[encoded data removed]",
      "text/plain": [
       "<Figure size 432x288 with 1 Axes>"
      ]
     },
     "metadata": {},
     "output_type": "display_data"
    }
   ],
   "source": [
    "#Plot the Precision-Recall curve and no-skill curve\n",
    "no_skill = len(y_test[y_test==1]) / len(y_test)\n",
    "\n",
    "plt.plot([0,1], [no_skill,no_skill], linestyle='--', label='Model with No Skill')\n",
    "plt.plot(recall, precision, marker='.', label='Our Neural Network Model')\n",
    "\n",
    "plt.xlabel('Recall')\n",
    "plt.ylabel('Precision')\n",
    "plt.title('Precision Versus Recall for a Varying Threshold Parameter')\n",
    "\n",
    "#Calculate the f1-score\n",
    "fscore = (2 * precision * recall) / (precision + recall)\n",
    "\n",
    "#Find the index of the largest f1-score and assign best threshold\n",
    "ix = np.argmax(fscore)\n",
    "print('Best Threshold=%f, F-Score=%.3f' % (thresholds[ix], fscore[ix]))\n",
    "best_thresh = thresholds[ix]\n",
    "\n",
    "plt.scatter(recall[ix], precision[ix], marker='o', color='black', label='Recall/Precision corresponding to optimal f1-score')\n",
    "plt.legend()\n",
    "plt.show()\n",
    "\n",
    "#Assign classes based on the best threshold\n",
    "classes_on_thresh = np.array([int(p[0] > best_thresh) for p in probs])\n",
    "predictions = classes_on_thresh"
   ]
  },
  {
   "cell_type": "code",
   "execution_count": 72,
   "metadata": {},
   "outputs": [
    {
     "name": "stdout",
     "output_type": "stream",
     "text": [
      "              precision    recall  f1-score   support\n",
      "\n",
      "           0       1.00      1.00      1.00     85299\n",
      "           1       0.86      0.82      0.84       144\n",
      "\n",
      "    accuracy                           1.00     85443\n",
      "   macro avg       0.93      0.91      0.92     85443\n",
      "weighted avg       1.00      1.00      1.00     85443\n",
      "\n"
     ]
    }
   ],
   "source": [
    "print(classification_report(y_test,predictions))\n"
   ]
  },
  {
   "cell_type": "code",
   "execution_count": 73,
   "metadata": {},
   "outputs": [
    {
     "data": {
      "image/png": "[encoded data removed]",
      "text/plain": [
       "<Figure size 432x288 with 1 Axes>"
      ]
     },
     "metadata": {},
     "output_type": "display_data"
    }
   ],
   "source": [
    "classes = ['Legit','Fraud']\n",
    "predicted_classes = ['Predicted ' + item for item in classes]\n",
    "actual_classes = ['Actually ' + item for item in classes]\n",
    "\n",
    "conf_df = pd.DataFrame(data=confusion_matrix(y_test,predictions),columns=predicted_classes,\n",
    "            index=actual_classes)\n",
    "\n",
    "sns.heatmap(conf_df,annot=True,fmt='g',cbar=False)\n",
    "plt.xlabel('Predicted Label')\n",
    "plt.ylabel('Actual Label')\n",
    "plt.xticks(rotation=20)\n",
    "plt.yticks(rotation=30)\n",
    "plt.title('Confusion matrix for the creditcard data set')\n",
    "plt.show()"
   ]
  },
  {
   "cell_type": "code",
   "execution_count": 74,
   "metadata": {},
   "outputs": [
    {
     "name": "stdout",
     "output_type": "stream",
     "text": [
      "Epoch 1/15\n",
      "12439/12439 [==============================] - 29s 2ms/step - loss: 0.0795 - val_loss: 0.0428\n",
      "Epoch 2/15\n",
      "12439/12439 [==============================] - 28s 2ms/step - loss: 0.0482 - val_loss: 0.0291\n",
      "Epoch 3/15\n",
      "12439/12439 [==============================] - 30s 2ms/step - loss: 0.0415 - val_loss: 0.0374\n",
      "Epoch 4/15\n",
      "12439/12439 [==============================] - 31s 2ms/step - loss: 0.0398 - val_loss: 0.0366\n",
      "Epoch 5/15\n",
      "12439/12439 [==============================] - 29s 2ms/step - loss: 0.0378 - val_loss: 0.0284\n",
      "Epoch 6/15\n",
      "12439/12439 [==============================] - 30s 2ms/step - loss: 0.0360 - val_loss: 0.0317\n",
      "Epoch 7/15\n",
      "12439/12439 [==============================] - 30s 2ms/step - loss: 0.0348 - val_loss: 0.0302\n",
      "Epoch 8/15\n",
      "12439/12439 [==============================] - 31s 2ms/step - loss: 0.0357 - val_loss: 0.0316\n",
      "Epoch 9/15\n",
      "12439/12439 [==============================] - 33s 3ms/step - loss: 0.0355 - val_loss: 0.0297\n",
      "Epoch 10/15\n",
      "12439/12439 [==============================] - 30s 2ms/step - loss: 0.0356 - val_loss: 0.0289\n",
      "Epoch 11/15\n",
      "12439/12439 [==============================] - 30s 2ms/step - loss: 0.0339 - val_loss: 0.0296\n",
      "Epoch 12/15\n",
      "12439/12439 [==============================] - 29s 2ms/step - loss: 0.0361 - val_loss: 0.0287\n",
      "Epoch 13/15\n",
      "12439/12439 [==============================] - 30s 2ms/step - loss: 0.0356 - val_loss: 0.0309\n",
      "Epoch 14/15\n",
      "12439/12439 [==============================] - 32s 3ms/step - loss: 0.0347 - val_loss: 0.0314\n",
      "Epoch 15/15\n",
      "12439/12439 [==============================] - 29s 2ms/step - loss: 0.0362 - val_loss: 0.0272\n"
     ]
    },
    {
     "data": {
      "text/plain": [
       "<tensorflow.python.keras.callbacks.History at 0x1a636a0da90>"
      ]
     },
     "execution_count": 74,
     "metadata": {},
     "output_type": "execute_result"
    }
   ],
   "source": [
    "from imblearn.over_sampling import SMOTE\n",
    "X_train, X_test, y_train, y_test = train_test_split(X, y, test_size=0.3, random_state=101)\n",
    "X_train, y_train = SMOTE().fit_resample(X_train, y_train)\n",
    "\n",
    "scaler = StandardScaler()\n",
    "X_train = scaler.fit_transform(X_train,y_train)\n",
    "X_test = scaler.transform(X_test)\n",
    "\n",
    "y_train = y_train.values\n",
    "y_test = y_test.values\n",
    "\n",
    "model = Sequential()\n",
    "model.add(Dense(units=12,activation='relu'))\n",
    "model.add(Dropout(rate=0.1))\n",
    "model.add(Dense(units=1,activation='sigmoid'))\n",
    "model.compile(optimizer='rmsprop',loss='binary_crossentropy')\n",
    "model.fit(X_train,y_train,epochs=15, validation_data = (X_test,y_test),verbose=1)"
   ]
  },
  {
   "cell_type": "code",
   "execution_count": 75,
   "metadata": {},
   "outputs": [
    {
     "data": {
      "image/png": "[encoded data removed]",
      "text/plain": [
       "<Figure size 432x288 with 1 Axes>"
      ]
     },
     "metadata": {},
     "output_type": "display_data"
    }
   ],
   "source": [
    "losses = pd.DataFrame(model.history.history)\n",
    "losses.plot()\n",
    "plt.show()"
   ]
  },
  {
   "cell_type": "code",
   "execution_count": 76,
   "metadata": {},
   "outputs": [
    {
     "data": {
      "text/plain": [
       "array([[3.0648648e-10],\n",
       "       [1.3163803e-10],\n",
       "       [3.8574744e-17],\n",
       "       ...,\n",
       "       [1.2441472e-08],\n",
       "       [2.5358071e-14],\n",
       "       [2.2565605e-32]], dtype=float32)"
      ]
     },
     "execution_count": 76,
     "metadata": {},
     "output_type": "execute_result"
    }
   ],
   "source": [
    "probs = model.predict(X_test)\n",
    "probs"
   ]
  },
  {
   "cell_type": "code",
   "execution_count": 77,
   "metadata": {},
   "outputs": [
    {
     "data": {
      "image/png": "[encoded data removed]",
      "text/plain": [
       "<Figure size 432x288 with 1 Axes>"
      ]
     },
     "metadata": {},
     "output_type": "display_data"
    }
   ],
   "source": [
    "from sklearn.metrics import roc_curve\n",
    "\n",
    "fpr, tpr, thresholds = roc_curve(y_test, probs)\n",
    "\n",
    "#Find the best threshold\n",
    "J = tpr - fpr\n",
    "ix = np.argmax(J)\n",
    "best_thresh = thresholds[ix]\n",
    "\n",
    "#Plot the ROC curve\n",
    "plt.plot([0,1], [0,1], linestyle='--', label='Model With No Skill')\n",
    "plt.plot(fpr, tpr, marker='.', label='Our Neural Network Model')\n",
    "plt.scatter(fpr[ix], tpr[ix], marker='o', color='black', label='tpr-fpr maximised point (optimal threshold)')\n",
    "\n",
    "#Label your axes\n",
    "plt.xlabel('False Positive Rate')\n",
    "plt.ylabel('True Positive Rate')\n",
    "plt.legend()\n",
    "plt.show()\n",
    "\n",
    "#Use the optimal threshold to generate predictions\n",
    "classes_on_thresh = np.array([int(p[0] > best_thresh) for p in probs])\n",
    "predictions = classes_on_thresh"
   ]
  },
  {
   "cell_type": "code",
   "execution_count": 78,
   "metadata": {},
   "outputs": [
    {
     "name": "stdout",
     "output_type": "stream",
     "text": [
      "              precision    recall  f1-score   support\n",
      "\n",
      "           0       1.00      0.97      0.99     85299\n",
      "           1       0.05      0.91      0.10       144\n",
      "\n",
      "    accuracy                           0.97     85443\n",
      "   macro avg       0.53      0.94      0.54     85443\n",
      "weighted avg       1.00      0.97      0.98     85443\n",
      "\n"
     ]
    }
   ],
   "source": [
    "print(classification_report(y_test,predictions))"
   ]
  },
  {
   "cell_type": "code",
   "execution_count": 79,
   "metadata": {},
   "outputs": [
    {
     "data": {
      "image/png": "[encoded data removed]",
      "text/plain": [
       "<Figure size 432x288 with 1 Axes>"
      ]
     },
     "metadata": {},
     "output_type": "display_data"
    }
   ],
   "source": [
    "conf_df = pd.DataFrame(data=confusion_matrix(y_test,predictions),columns=predicted_classes,\n",
    "            index=actual_classes)\n",
    "\n",
    "sns.heatmap(conf_df,annot=True,fmt='g',cbar=False)\n",
    "plt.xlabel('Predicted Label')\n",
    "plt.ylabel('Actual Label')\n",
    "plt.xticks(rotation=20)\n",
    "plt.yticks(rotation=30)\n",
    "plt.title('Confusion matrix for the creditcard data set')\n",
    "plt.show()"
   ]
  },
  {
   "cell_type": "code",
   "execution_count": 80,
   "metadata": {},
   "outputs": [
    {
     "name": "stdout",
     "output_type": "stream",
     "text": [
      "Epoch 1/30\n",
      "22/22 [==============================] - 3s 149ms/step - loss: 0.6414 - val_loss: 0.6296\n",
      "Epoch 2/30\n",
      "22/22 [==============================] - 3s 144ms/step - loss: 0.5042 - val_loss: 0.4643\n",
      "Epoch 3/30\n",
      "22/22 [==============================] - 3s 148ms/step - loss: 0.4232 - val_loss: 0.3476\n",
      "Epoch 4/30\n",
      "22/22 [==============================] - 3s 151ms/step - loss: 0.3715 - val_loss: 0.2759\n",
      "Epoch 5/30\n",
      "22/22 [==============================] - 3s 147ms/step - loss: 0.3358 - val_loss: 0.2252\n",
      "Epoch 6/30\n",
      "22/22 [==============================] - 3s 149ms/step - loss: 0.3105 - val_loss: 0.2050\n",
      "Epoch 7/30\n",
      "22/22 [==============================] - 3s 153ms/step - loss: 0.2895 - val_loss: 0.1847\n",
      "Epoch 8/30\n",
      "22/22 [==============================] - 4s 161ms/step - loss: 0.2727 - val_loss: 0.1715\n",
      "Epoch 9/30\n",
      "22/22 [==============================] - 3s 158ms/step - loss: 0.2579 - val_loss: 0.1622\n",
      "Epoch 10/30\n",
      "22/22 [==============================] - 4s 166ms/step - loss: 0.2446 - val_loss: 0.1536\n",
      "Epoch 11/30\n",
      "22/22 [==============================] - 4s 171ms/step - loss: 0.2333 - val_loss: 0.1473\n",
      "Epoch 12/30\n",
      "22/22 [==============================] - 4s 176ms/step - loss: 0.2230 - val_loss: 0.1450\n",
      "Epoch 13/30\n",
      "22/22 [==============================] - 3s 145ms/step - loss: 0.2134 - val_loss: 0.1407\n",
      "Epoch 14/30\n",
      "22/22 [==============================] - 3s 153ms/step - loss: 0.2053 - val_loss: 0.1401\n",
      "Epoch 15/30\n",
      "22/22 [==============================] - 3s 147ms/step - loss: 0.1974 - val_loss: 0.1404\n",
      "Epoch 16/30\n",
      "22/22 [==============================] - 3s 150ms/step - loss: 0.1911 - val_loss: 0.1342\n",
      "Epoch 17/30\n",
      "22/22 [==============================] - 3s 144ms/step - loss: 0.1853 - val_loss: 0.1348\n",
      "Epoch 18/30\n",
      "22/22 [==============================] - 3s 148ms/step - loss: 0.1796 - val_loss: 0.1301\n",
      "Epoch 19/30\n",
      "22/22 [==============================] - 3s 144ms/step - loss: 0.1741 - val_loss: 0.1275\n",
      "Epoch 20/30\n",
      "22/22 [==============================] - 3s 145ms/step - loss: 0.1695 - val_loss: 0.1292\n",
      "Epoch 21/30\n",
      "22/22 [==============================] - 3s 147ms/step - loss: 0.1649 - val_loss: 0.1219\n",
      "Epoch 22/30\n",
      "22/22 [==============================] - 4s 161ms/step - loss: 0.1613 - val_loss: 0.1247\n",
      "Epoch 23/30\n",
      "22/22 [==============================] - 3s 152ms/step - loss: 0.1577 - val_loss: 0.1202\n",
      "Epoch 24/30\n",
      "22/22 [==============================] - 3s 149ms/step - loss: 0.1544 - val_loss: 0.1181\n",
      "Epoch 25/30\n",
      "22/22 [==============================] - 3s 146ms/step - loss: 0.1517 - val_loss: 0.1201\n",
      "Epoch 26/30\n",
      "22/22 [==============================] - 4s 159ms/step - loss: 0.1487 - val_loss: 0.1225\n",
      "Epoch 27/30\n",
      "22/22 [==============================] - 3s 144ms/step - loss: 0.1457 - val_loss: 0.1222\n",
      "Epoch 28/30\n",
      "22/22 [==============================] - 3s 147ms/step - loss: 0.1432 - val_loss: 0.1203\n",
      "Epoch 29/30\n",
      "22/22 [==============================] - 3s 147ms/step - loss: 0.1409 - val_loss: 0.1208\n",
      "Epoch 30/30\n",
      "22/22 [==============================] - 3s 144ms/step - loss: 0.1379 - val_loss: 0.1117\n"
     ]
    },
    {
     "data": {
      "text/plain": [
       "<tensorflow.python.keras.callbacks.History at 0x1a63677e160>"
      ]
     },
     "execution_count": 80,
     "metadata": {},
     "output_type": "execute_result"
    }
   ],
   "source": [
    "from sklearn.utils import resample\n",
    "X_train, X_test, y_train, y_test = train_test_split(X, y, test_size=0.3, random_state=101)\n",
    "\n",
    "df_train = X_train\n",
    "df_train['Class'] = y_train\n",
    "\n",
    "df_majority = df_train[df_train['Class']==0] #Legit transactions\n",
    "df_minority = df_train[df_train['Class']==1] #Fraudulent transations\n",
    "\n",
    "df_majority_downsampled = resample(df_majority, \n",
    "                                 replace=False,    \n",
    "                                 n_samples=348,     \n",
    "                                 random_state=101)\n",
    " \n",
    "df_downsampled = pd.concat([df_majority_downsampled, df_minority])\n",
    "\n",
    "X_train = df_downsampled.drop('Class',axis=1)\n",
    "y_train = df_downsampled['Class']\n",
    "\n",
    "scaler = StandardScaler()\n",
    "X_train = scaler.fit_transform(X_train,y_train)\n",
    "X_test = scaler.transform(X_test)\n",
    "\n",
    "y_test = y_test.values\n",
    "y_train = y_train.values\n",
    "\n",
    "model = Sequential()\n",
    "model.add(Dense(units=12,activation='relu'))\n",
    "model.add(Dense(units=1,activation='sigmoid'))\n",
    "model.compile(optimizer='rmsprop',loss='binary_crossentropy')\n",
    "\n",
    "model.fit(X_train,y_train,epochs=30,validation_data=(X_test,y_test),verbose=1)"
   ]
  },
  {
   "cell_type": "code",
   "execution_count": 81,
   "metadata": {},
   "outputs": [
    {
     "data": {
      "image/png": "[encoded data removed]",
      "text/plain": [
       "<Figure size 432x288 with 1 Axes>"
      ]
     },
     "metadata": {},
     "output_type": "display_data"
    }
   ],
   "source": [
    "losses = pd.DataFrame(model.history.history)\n",
    "losses.plot()\n",
    "plt.show()"
   ]
  },
  {
   "cell_type": "code",
   "execution_count": 82,
   "metadata": {},
   "outputs": [
    {
     "data": {
      "image/png": "[encoded data removed]",
      "text/plain": [
       "<Figure size 432x288 with 1 Axes>"
      ]
     },
     "metadata": {},
     "output_type": "display_data"
    }
   ],
   "source": [
    "probs = model.predict(X_test)\n",
    "\n",
    "fpr, tpr, thresholds = roc_curve(y_test, probs)\n",
    "\n",
    "#Find the best threshold\n",
    "J = tpr - fpr\n",
    "ix = np.argmax(J)\n",
    "best_thresh = thresholds[ix]\n",
    "\n",
    "#Plot the ROC curve\n",
    "plt.plot([0,1], [0,1], linestyle='--', label='Model With No Skill')\n",
    "plt.plot(fpr, tpr, marker='.', label='Our Neural Network Model')\n",
    "plt.scatter(fpr[ix], tpr[ix], marker='o', color='black', label='tpr-fpr maximised point')\n",
    "\n",
    "#Label your axes\n",
    "plt.xlabel('False Positive Rate')\n",
    "plt.ylabel('True Positive Rate')\n",
    "plt.legend()\n",
    "plt.show()\n",
    "\n",
    "#Use the optimal threshold to generate predictions\n",
    "classes_on_thresh = np.array([int(p[0] > best_thresh) for p in probs])\n",
    "predictions = classes_on_thresh"
   ]
  },
  {
   "cell_type": "code",
   "execution_count": 83,
   "metadata": {},
   "outputs": [
    {
     "name": "stdout",
     "output_type": "stream",
     "text": [
      "              precision    recall  f1-score   support\n",
      "\n",
      "           0       1.00      0.97      0.98     85299\n",
      "           1       0.05      0.90      0.09       144\n",
      "\n",
      "    accuracy                           0.97     85443\n",
      "   macro avg       0.52      0.93      0.54     85443\n",
      "weighted avg       1.00      0.97      0.98     85443\n",
      "\n"
     ]
    }
   ],
   "source": [
    "print(classification_report(y_test,predictions))\n"
   ]
  },
  {
   "cell_type": "code",
   "execution_count": 84,
   "metadata": {},
   "outputs": [
    {
     "data": {
      "image/png": "[encoded data removed]",
      "text/plain": [
       "<Figure size 432x288 with 1 Axes>"
      ]
     },
     "metadata": {},
     "output_type": "display_data"
    }
   ],
   "source": [
    "classes = ['Legit','Fraud']\n",
    "predicted_classes = ['Predicted ' + item for item in classes]\n",
    "actual_classes = ['Actually ' + item for item in classes]\n",
    "\n",
    "conf_df = pd.DataFrame(data=confusion_matrix(y_test,predictions),columns=predicted_classes,\n",
    "            index=actual_classes)\n",
    "\n",
    "sns.heatmap(conf_df,annot=True,fmt='g',cbar=False)\n",
    "plt.xlabel('Predicted Label')\n",
    "plt.ylabel('Actual Label')\n",
    "plt.xticks(rotation=20)\n",
    "plt.yticks(rotation=30)\n",
    "plt.title('Confusion matrix for the creditcard data set')\n",
    "plt.show()"
   ]
  },
  {
   "cell_type": "markdown",
   "metadata": {},
   "source": [
    "# From Omnidroid Code"
   ]
  },
  {
   "cell_type": "code",
   "execution_count": 14,
   "metadata": {},
   "outputs": [
    {
     "name": "stdout",
     "output_type": "stream",
     "text": [
      "done\n",
      "Wall time: 1.62 s\n"
     ]
    }
   ],
   "source": [
    "%%time\n",
    "model = Sequential()\n",
    "\n",
    "model.add(Dense(units=15, activation='relu'))\n",
    "\n",
    "#model.add(BatchNormalization(axis=-1, momentum=0.99, epsilon=0.001, center=False, scale=True, beta_initializer='zeros', gamma_initializer='ones', moving_mean_initializer='zeros', moving_variance_initializer='ones', beta_regularizer=None, gamma_regularizer=None, beta_constraint=None, gamma_constraint=None))\n",
    "#model.add(Dropout(0.2, noise_shape=None, seed=None))\n",
    "#model.add(ActivityRegularization(l1=0.003, l2=0.01))\n",
    "model.add(Dense(1, activation='sigmoid'))\n",
    "model.compile(optimizer='rmsprop',loss='binary_crossentropy') #compile the model, choose how the cost function is optimised.\n",
    "print(\"done\")"
   ]
  },
  {
   "cell_type": "code",
   "execution_count": 16,
   "metadata": {},
   "outputs": [
    {
     "name": "stdout",
     "output_type": "stream",
     "text": [
      "Epoch 1/10\n",
      "6231/6231 [==============================] - 15s 2ms/step - loss: 2.9631 - val_loss: 0.3646\n",
      "Epoch 2/10\n",
      "6231/6231 [==============================] - 15s 2ms/step - loss: 2.5550 - val_loss: 0.4761\n",
      "Epoch 3/10\n",
      "6231/6231 [==============================] - 16s 3ms/step - loss: 2.0017 - val_loss: 0.2253\n",
      "Epoch 4/10\n",
      "6231/6231 [==============================] - 17s 3ms/step - loss: 2.4100 - val_loss: 0.4408\n",
      "Epoch 5/10\n",
      "6231/6231 [==============================] - 17s 3ms/step - loss: 2.0480 - val_loss: 0.0764\n",
      "Epoch 6/10\n",
      "6231/6231 [==============================] - 17s 3ms/step - loss: 2.0650 - val_loss: 0.1931\n",
      "Epoch 7/10\n",
      "6231/6231 [==============================] - 16s 3ms/step - loss: 3.0442 - val_loss: 0.5432\n",
      "Epoch 8/10\n",
      "6231/6231 [==============================] - 16s 3ms/step - loss: 2.9299 - val_loss: 0.1651\n",
      "Epoch 9/10\n",
      "6231/6231 [==============================] - 17s 3ms/step - loss: 2.4696 - val_loss: 0.6917\n",
      "Epoch 10/10\n",
      "6231/6231 [==============================] - 17s 3ms/step - loss: 2.4826 - val_loss: 0.5435\n"
     ]
    },
    {
     "data": {
      "text/plain": [
       "<tensorflow.python.keras.callbacks.History at 0x1b05465bc10>"
      ]
     },
     "execution_count": 16,
     "metadata": {},
     "output_type": "execute_result"
    }
   ],
   "source": [
    "model.fit(X_train,y_train,                   #Pass in the training data\n",
    "          epochs=10,                         #Specify how long we should train the model for (increasing this could lead to overfitting!)\n",
    "          validation_data=(X_test,y_test))   #Specify validation data so that the model performance on the test set can be tracked, this is a good way to see if we get any overfitting!"
   ]
  },
  {
   "cell_type": "code",
   "execution_count": 17,
   "metadata": {},
   "outputs": [
    {
     "data": {
      "image/png": "[encoded data removed]",
      "text/plain": [
       "<Figure size 432x288 with 1 Axes>"
      ]
     },
     "metadata": {},
     "output_type": "display_data"
    }
   ],
   "source": [
    "losses = pd.DataFrame(model.history.history)\n",
    "losses.plot()\n",
    "plt.xlabel('Epoch')\n",
    "plt.ylabel('Loss')\n",
    "plt.title('Loss versus training epoch')\n",
    "plt.show()"
   ]
  },
  {
   "cell_type": "code",
   "execution_count": 79,
   "metadata": {},
   "outputs": [
    {
     "name": "stdout",
     "output_type": "stream",
     "text": [
      "              precision    recall  f1-score   support\n",
      "\n",
      "           0       1.00      1.00      1.00     85299\n",
      "           1       0.00      0.00      0.00       144\n",
      "\n",
      "    accuracy                           1.00     85443\n",
      "   macro avg       0.50      0.50      0.50     85443\n",
      "weighted avg       1.00      1.00      1.00     85443\n",
      "\n"
     ]
    }
   ],
   "source": [
    "\n",
    "\n",
    "predictions = (model.predict(X_test) > 0.5).astype(\"int32\")\n",
    "from sklearn.metrics import classification_report, confusion_matrix\n",
    "print(classification_report(y_test,predictions))\n",
    "\n"
   ]
  },
  {
   "cell_type": "code",
   "execution_count": 80,
   "metadata": {},
   "outputs": [
    {
     "data": {
      "image/png": "[encoded data removed]",
      "text/plain": [
       "<Figure size 432x288 with 1 Axes>"
      ]
     },
     "metadata": {},
     "output_type": "display_data"
    }
   ],
   "source": [
    "#Labels for the plot\n",
    "classes = ['Legit','Fraud']\n",
    "predicted_classes = ['Predicted ' + item for item in classes]\n",
    "actual_classes = ['Actually ' + item for item in classes]\n",
    "\n",
    "#Create a dataframe from confusion_matrix entries for easy plotting\n",
    "conf_df = pd.DataFrame(data=confusion_matrix(y_test,predictions),columns=predicted_classes,\n",
    "            index=actual_classes)\n",
    "\n",
    "#Seaborn heatmap\n",
    "sns.heatmap(conf_df,annot=True,fmt='g',cbar=False)\n",
    "plt.xlabel('Predicted Label')\n",
    "plt.ylabel('Actual Label')\n",
    "plt.xticks(rotation=20)\n",
    "plt.yticks(rotation=30)\n",
    "plt.title('Confusion matrix for the creditcard data set')\n",
    "plt.show()"
   ]
  },
  {
   "cell_type": "markdown",
   "metadata": {},
   "source": [
    "# Scaled"
   ]
  },
  {
   "cell_type": "code",
   "execution_count": 60,
   "metadata": {},
   "outputs": [
    {
     "name": "stdout",
     "output_type": "stream",
     "text": [
      "Epoch 1/10\n",
      "6231/6231 [==============================] - 15s 2ms/step - loss: 0.0248 - val_loss: 0.0076\n",
      "Epoch 2/10\n",
      "6231/6231 [==============================] - 15s 2ms/step - loss: 0.0091 - val_loss: 0.0076\n",
      "Epoch 3/10\n",
      "6231/6231 [==============================] - 16s 3ms/step - loss: 0.0082 - val_loss: 0.0064\n",
      "Epoch 4/10\n",
      "6231/6231 [==============================] - 17s 3ms/step - loss: 0.0077 - val_loss: 0.0064\n",
      "Epoch 5/10\n",
      "6231/6231 [==============================] - 18s 3ms/step - loss: 0.0078 - val_loss: 0.0065\n",
      "Epoch 6/10\n",
      "6231/6231 [==============================] - 17s 3ms/step - loss: 0.0074 - val_loss: 0.0063\n",
      "Epoch 7/10\n",
      "6231/6231 [==============================] - 17s 3ms/step - loss: 0.0073 - val_loss: 0.0059\n",
      "Epoch 8/10\n",
      "6231/6231 [==============================] - 17s 3ms/step - loss: 0.0069 - val_loss: 0.0064\n",
      "Epoch 9/10\n",
      "6231/6231 [==============================] - 17s 3ms/step - loss: 0.0075 - val_loss: 0.0054\n",
      "Epoch 10/10\n",
      "6231/6231 [==============================] - 17s 3ms/step - loss: 0.0068 - val_loss: 0.0051\n"
     ]
    },
    {
     "data": {
      "text/plain": [
       "<tensorflow.python.keras.callbacks.History at 0x1b19b2d80d0>"
      ]
     },
     "execution_count": 60,
     "metadata": {},
     "output_type": "execute_result"
    }
   ],
   "source": [
    "model.fit(X_train_scaled,y_train,validation_data=(X_test_scaled,y_test),epochs=10)"
   ]
  },
  {
   "cell_type": "code",
   "execution_count": 75,
   "metadata": {},
   "outputs": [
    {
     "name": "stdout",
     "output_type": "stream",
     "text": [
      "              precision    recall  f1-score   support\n",
      "\n",
      "           0       1.00      1.00      1.00     85299\n",
      "           1       0.86      0.81      0.83       144\n",
      "\n",
      "    accuracy                           1.00     85443\n",
      "   macro avg       0.93      0.90      0.92     85443\n",
      "weighted avg       1.00      1.00      1.00     85443\n",
      "\n"
     ]
    }
   ],
   "source": [
    "predictions_scaled = (model.predict(X_test_scaled) > 0.5).astype(\"int32\")\n",
    "print(classification_report(y_test,predictions_scaled))"
   ]
  },
  {
   "cell_type": "code",
   "execution_count": 76,
   "metadata": {},
   "outputs": [
    {
     "data": {
      "image/png": "[encoded data removed]",
      "text/plain": [
       "<Figure size 432x288 with 1 Axes>"
      ]
     },
     "metadata": {},
     "output_type": "display_data"
    }
   ],
   "source": [
    "conf_df_scaled = pd.DataFrame(data=confusion_matrix(y_test,predictions_scaled),columns=predicted_classes,\n",
    "            index=actual_classes)\n",
    "\n",
    "sns.heatmap(conf_df_scaled,annot=True,fmt='g',cbar=False)\n",
    "plt.xlabel('Predicted Label')\n",
    "plt.ylabel('Actual Label')\n",
    "plt.xticks(rotation=20)\n",
    "plt.yticks(rotation=30)\n",
    "plt.title('Confusion Matrix for The Scaled Creditcard Data Set')\n",
    "plt.show()"
   ]
  },
  {
   "cell_type": "code",
   "execution_count": null,
   "metadata": {},
   "outputs": [],
   "source": []
  }
 ],
 "metadata": {
  "kernelspec": {
   "display_name": "Python 3",
   "language": "python",
   "name": "python3"
  },
  "language_info": {
   "codemirror_mode": {
    "name": "ipython",
    "version": 3
   },
   "file_extension": ".py",
   "mimetype": "text/x-python",
   "name": "python",
   "nbconvert_exporter": "python",
   "pygments_lexer": "ipython3",
   "version": "3.8.3"
  }
 },
 "nbformat": 4,
 "nbformat_minor": 4
}
